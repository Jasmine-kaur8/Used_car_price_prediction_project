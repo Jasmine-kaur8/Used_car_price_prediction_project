{
  "nbformat": 4,
  "nbformat_minor": 0,
  "metadata": {
    "colab": {
      "name": "Car Price Prediction Project",
      "provenance": [],
      "collapsed_sections": [],
      "authorship_tag": "ABX9TyMoNTSJ0phRh8MDsksArWff",
      "include_colab_link": true
    },
    "kernelspec": {
      "name": "python3",
      "display_name": "Python 3"
    },
    "language_info": {
      "name": "python"
    }
  },
  "cells": [
    {
      "cell_type": "markdown",
      "metadata": {
        "id": "view-in-github",
        "colab_type": "text"
      },
      "source": [
        "<a href=\"https://colab.research.google.com/github/Jasmine-kaur8/used_car_price_prediction_project/blob/main/Car_Price_Prediction_Project.ipynb\" target=\"_parent\"><img src=\"https://colab.research.google.com/assets/colab-badge.svg\" alt=\"Open In Colab\"/></a>"
      ]
    },
    {
      "cell_type": "code",
      "metadata": {
        "id": "y8Vloa8iIv-_"
      },
      "source": [
        "#Import necessary libraries\n",
        "\n",
        "import pandas as pd\n",
        "import numpy as np\n",
        "import matplotlib.pyplot as plt\n",
        "import seaborn as sns\n",
        "\n",
        "from sklearn.preprocessing import StandardScaler\n",
        "from statsmodels.stats.outliers_influence import variance_inflation_factor\n",
        "from sklearn.metrics import r2_score, mean_squared_error\n",
        "\n",
        "from scipy import stats\n",
        "from sklearn.model_selection import train_test_split\n",
        "from sklearn.neighbors import KNeighborsRegressor\n",
        "from sklearn.ensemble import  RandomForestRegressor\n",
        "from sklearn.linear_model import LinearRegression\n",
        "from sklearn.ensemble import  GradientBoostingRegressor\n",
        "\n",
        "import warnings \n",
        "warnings.filterwarnings('ignore')"
      ],
      "execution_count": 185,
      "outputs": []
    },
    {
      "cell_type": "code",
      "metadata": {
        "colab": {
          "base_uri": "https://localhost:8080/",
          "height": 202
        },
        "id": "HjRkvRJAJOLR",
        "outputId": "49449016-5bef-4013-c7fe-8c00bfae8565"
      },
      "source": [
        "#Loading the data\n",
        "data = pd.read_csv('cars24data.csv')\n",
        "data.head()"
      ],
      "execution_count": 186,
      "outputs": [
        {
          "output_type": "execute_result",
          "data": {
            "text/html": [
              "<div>\n",
              "<style scoped>\n",
              "    .dataframe tbody tr th:only-of-type {\n",
              "        vertical-align: middle;\n",
              "    }\n",
              "\n",
              "    .dataframe tbody tr th {\n",
              "        vertical-align: top;\n",
              "    }\n",
              "\n",
              "    .dataframe thead th {\n",
              "        text-align: right;\n",
              "    }\n",
              "</style>\n",
              "<table border=\"1\" class=\"dataframe\">\n",
              "  <thead>\n",
              "    <tr style=\"text-align: right;\">\n",
              "      <th></th>\n",
              "      <th>Unnamed: 0</th>\n",
              "      <th>name</th>\n",
              "      <th>selling_price</th>\n",
              "      <th>km_driven</th>\n",
              "      <th>fuel</th>\n",
              "      <th>transmission</th>\n",
              "    </tr>\n",
              "  </thead>\n",
              "  <tbody>\n",
              "    <tr>\n",
              "      <th>0</th>\n",
              "      <td>0</td>\n",
              "      <td>-</td>\n",
              "      <td>-</td>\n",
              "      <td>-</td>\n",
              "      <td>-</td>\n",
              "      <td>-</td>\n",
              "    </tr>\n",
              "    <tr>\n",
              "      <th>1</th>\n",
              "      <td>1</td>\n",
              "      <td>-</td>\n",
              "      <td>-</td>\n",
              "      <td>-</td>\n",
              "      <td>-</td>\n",
              "      <td>-</td>\n",
              "    </tr>\n",
              "    <tr>\n",
              "      <th>2</th>\n",
              "      <td>2</td>\n",
              "      <td>2013 Maruti Swift Dzire</td>\n",
              "      <td>3,75,199</td>\n",
              "      <td>88,228 km</td>\n",
              "      <td>Diesel</td>\n",
              "      <td>Manual</td>\n",
              "    </tr>\n",
              "    <tr>\n",
              "      <th>3</th>\n",
              "      <td>3</td>\n",
              "      <td>2011 BMW 3 Series</td>\n",
              "      <td>6,43,699</td>\n",
              "      <td>90,696 km</td>\n",
              "      <td>Diesel</td>\n",
              "      <td>Automatic</td>\n",
              "    </tr>\n",
              "    <tr>\n",
              "      <th>4</th>\n",
              "      <td>4</td>\n",
              "      <td>2014 Maruti Ertiga</td>\n",
              "      <td>4,36,499</td>\n",
              "      <td>78,074 km</td>\n",
              "      <td>Diesel</td>\n",
              "      <td>Manual</td>\n",
              "    </tr>\n",
              "  </tbody>\n",
              "</table>\n",
              "</div>"
            ],
            "text/plain": [
              "   Unnamed: 0                     name  ...    fuel transmission\n",
              "0           0                        -  ...       -            -\n",
              "1           1                        -  ...       -            -\n",
              "2           2  2013 Maruti Swift Dzire  ...  Diesel       Manual\n",
              "3           3        2011 BMW 3 Series  ...  Diesel    Automatic\n",
              "4           4       2014 Maruti Ertiga  ...  Diesel       Manual\n",
              "\n",
              "[5 rows x 6 columns]"
            ]
          },
          "metadata": {},
          "execution_count": 186
        }
      ]
    },
    {
      "cell_type": "code",
      "metadata": {
        "colab": {
          "base_uri": "https://localhost:8080/"
        },
        "id": "5j2sA71eXM5Q",
        "outputId": "6cba137e-9d7d-470e-e758-74d824186803"
      },
      "source": [
        "#shape of the data\n",
        "data.shape"
      ],
      "execution_count": 187,
      "outputs": [
        {
          "output_type": "execute_result",
          "data": {
            "text/plain": [
              "(2434, 6)"
            ]
          },
          "metadata": {},
          "execution_count": 187
        }
      ]
    },
    {
      "cell_type": "code",
      "metadata": {
        "id": "JLxtu-r1X9PP"
      },
      "source": [
        "#dropping the unnecessary column\n",
        "data.drop(columns = ['Unnamed: 0'], axis = 1,inplace = True)"
      ],
      "execution_count": 188,
      "outputs": []
    },
    {
      "cell_type": "code",
      "metadata": {
        "colab": {
          "base_uri": "https://localhost:8080/"
        },
        "id": "ZQqt3fkGYPVS",
        "outputId": "e01e9635-dd46-496a-e112-1d2cf50fb27d"
      },
      "source": [
        "#data types of the column\n",
        "data.dtypes"
      ],
      "execution_count": 189,
      "outputs": [
        {
          "output_type": "execute_result",
          "data": {
            "text/plain": [
              "name             object\n",
              "selling_price    object\n",
              "km_driven        object\n",
              "fuel             object\n",
              "transmission     object\n",
              "dtype: object"
            ]
          },
          "metadata": {},
          "execution_count": 189
        }
      ]
    },
    {
      "cell_type": "code",
      "metadata": {
        "colab": {
          "base_uri": "https://localhost:8080/",
          "height": 171
        },
        "id": "3CMwJXLvYWHK",
        "outputId": "7aa23a95-a381-4c27-d4cb-92b8c25112d5"
      },
      "source": [
        "#description of the data\n",
        "data.describe()"
      ],
      "execution_count": 190,
      "outputs": [
        {
          "output_type": "execute_result",
          "data": {
            "text/html": [
              "<div>\n",
              "<style scoped>\n",
              "    .dataframe tbody tr th:only-of-type {\n",
              "        vertical-align: middle;\n",
              "    }\n",
              "\n",
              "    .dataframe tbody tr th {\n",
              "        vertical-align: top;\n",
              "    }\n",
              "\n",
              "    .dataframe thead th {\n",
              "        text-align: right;\n",
              "    }\n",
              "</style>\n",
              "<table border=\"1\" class=\"dataframe\">\n",
              "  <thead>\n",
              "    <tr style=\"text-align: right;\">\n",
              "      <th></th>\n",
              "      <th>name</th>\n",
              "      <th>selling_price</th>\n",
              "      <th>km_driven</th>\n",
              "      <th>fuel</th>\n",
              "      <th>transmission</th>\n",
              "    </tr>\n",
              "  </thead>\n",
              "  <tbody>\n",
              "    <tr>\n",
              "      <th>count</th>\n",
              "      <td>2434</td>\n",
              "      <td>2434</td>\n",
              "      <td>2434</td>\n",
              "      <td>2434</td>\n",
              "      <td>2416</td>\n",
              "    </tr>\n",
              "    <tr>\n",
              "      <th>unique</th>\n",
              "      <td>52</td>\n",
              "      <td>130</td>\n",
              "      <td>125</td>\n",
              "      <td>4</td>\n",
              "      <td>3</td>\n",
              "    </tr>\n",
              "    <tr>\n",
              "      <th>top</th>\n",
              "      <td>-</td>\n",
              "      <td>-</td>\n",
              "      <td>-</td>\n",
              "      <td>-</td>\n",
              "      <td>-</td>\n",
              "    </tr>\n",
              "    <tr>\n",
              "      <th>freq</th>\n",
              "      <td>1238</td>\n",
              "      <td>1238</td>\n",
              "      <td>1238</td>\n",
              "      <td>1238</td>\n",
              "      <td>1238</td>\n",
              "    </tr>\n",
              "  </tbody>\n",
              "</table>\n",
              "</div>"
            ],
            "text/plain": [
              "        name selling_price km_driven  fuel transmission\n",
              "count   2434          2434      2434  2434         2416\n",
              "unique    52           130       125     4            3\n",
              "top        -             -         -     -            -\n",
              "freq    1238          1238      1238  1238         1238"
            ]
          },
          "metadata": {},
          "execution_count": 190
        }
      ]
    },
    {
      "cell_type": "code",
      "metadata": {
        "colab": {
          "base_uri": "https://localhost:8080/"
        },
        "id": "fu7oMZ8xYte_",
        "outputId": "68390eef-375c-4051-8b64-16291f3e0e53"
      },
      "source": [
        "#information about the null values\n",
        "data.isna().sum()"
      ],
      "execution_count": 191,
      "outputs": [
        {
          "output_type": "execute_result",
          "data": {
            "text/plain": [
              "name              0\n",
              "selling_price     0\n",
              "km_driven         0\n",
              "fuel              0\n",
              "transmission     18\n",
              "dtype: int64"
            ]
          },
          "metadata": {},
          "execution_count": 191
        }
      ]
    },
    {
      "cell_type": "markdown",
      "metadata": {
        "id": "xfTyoDYzpOTR"
      },
      "source": [
        "The column 'transmission' has 18 null values"
      ]
    },
    {
      "cell_type": "code",
      "metadata": {
        "colab": {
          "base_uri": "https://localhost:8080/"
        },
        "id": "XorxUlGTY5XG",
        "outputId": "1b8a65c6-8878-44f4-b513-70428e02c653"
      },
      "source": [
        "#information about the data\n",
        "data.info()"
      ],
      "execution_count": 192,
      "outputs": [
        {
          "output_type": "stream",
          "name": "stdout",
          "text": [
            "<class 'pandas.core.frame.DataFrame'>\n",
            "RangeIndex: 2434 entries, 0 to 2433\n",
            "Data columns (total 5 columns):\n",
            " #   Column         Non-Null Count  Dtype \n",
            "---  ------         --------------  ----- \n",
            " 0   name           2434 non-null   object\n",
            " 1   selling_price  2434 non-null   object\n",
            " 2   km_driven      2434 non-null   object\n",
            " 3   fuel           2434 non-null   object\n",
            " 4   transmission   2416 non-null   object\n",
            "dtypes: object(5)\n",
            "memory usage: 95.2+ KB\n"
          ]
        }
      ]
    },
    {
      "cell_type": "code",
      "metadata": {
        "colab": {
          "base_uri": "https://localhost:8080/"
        },
        "id": "pAbVXjlEY8mW",
        "outputId": "1bf54b66-525f-4cd1-fdc5-f4e68f60b561"
      },
      "source": [
        "#Let's check unique values in each column to exolre dataset more deeply\n",
        "print(\"Column-wise Unique values are as:-\")\n",
        "for column in data.columns.values:\n",
        "    print(\"\\n Unique values in \",column,\" column is \" ,data[column].nunique())"
      ],
      "execution_count": 193,
      "outputs": [
        {
          "output_type": "stream",
          "name": "stdout",
          "text": [
            "Column-wise Unique values are as:-\n",
            "\n",
            " Unique values in  name  column is  52\n",
            "\n",
            " Unique values in  selling_price  column is  130\n",
            "\n",
            " Unique values in  km_driven  column is  125\n",
            "\n",
            " Unique values in  fuel  column is  4\n",
            "\n",
            " Unique values in  transmission  column is  3\n"
          ]
        }
      ]
    },
    {
      "cell_type": "code",
      "metadata": {
        "colab": {
          "base_uri": "https://localhost:8080/"
        },
        "id": "2rLlubG67kk2",
        "outputId": "99f06189-2990-4702-c49e-9c8a608ec608"
      },
      "source": [
        "#removing the rows that contain hyphen\n",
        "data = data[data[\"name\"].str.contains(\"-\")==False]\n",
        "print(data.head())"
      ],
      "execution_count": 194,
      "outputs": [
        {
          "output_type": "stream",
          "name": "stdout",
          "text": [
            "                      name selling_price  km_driven    fuel transmission\n",
            "2  2013 Maruti Swift Dzire      3,75,199  88,228 km  Diesel       Manual\n",
            "3        2011 BMW 3 Series      6,43,699  90,696 km  Diesel    Automatic\n",
            "4       2014 Maruti Ertiga      4,36,499  78,074 km  Diesel       Manual\n",
            "5       2013 Maruti Ertiga      5,41,699  27,420 km  Diesel       Manual\n",
            "6        2015 Maruti Swift      3,98,199  41,046 km  Petrol       Manual\n"
          ]
        }
      ]
    },
    {
      "cell_type": "code",
      "metadata": {
        "id": "UN-62dSr-LCN"
      },
      "source": [
        "#reseting the index\n",
        "data.reset_index(inplace = True, drop = True)"
      ],
      "execution_count": 195,
      "outputs": []
    },
    {
      "cell_type": "markdown",
      "metadata": {
        "id": "zB-tHwOL8KEZ"
      },
      "source": [
        "# EXPLORATORY DATA ANALYSIS"
      ]
    },
    {
      "cell_type": "code",
      "metadata": {
        "colab": {
          "base_uri": "https://localhost:8080/",
          "height": 264
        },
        "id": "4T6v1Ki_76Nd",
        "outputId": "625cd82e-76af-4e12-959a-69c789ec3d31"
      },
      "source": [
        "#pie chart of the column transmission\n",
        "y1 = data['transmission'].value_counts()\n",
        "labels = [\"Manual\",\"Automatic\"]\n",
        "plt.pie(y1, labels = labels, autopct = '%.3f')\n",
        "plt.title('Transmission')\n",
        "plt.show()"
      ],
      "execution_count": 196,
      "outputs": [
        {
          "output_type": "display_data",
          "data": {
            "image/png": "[encoded data removed]",
            "text/plain": [
              "<Figure size 432x288 with 1 Axes>"
            ]
          },
          "metadata": {}
        }
      ]
    },
    {
      "cell_type": "code",
      "metadata": {
        "colab": {
          "base_uri": "https://localhost:8080/",
          "height": 264
        },
        "id": "98svImQ48Z0e",
        "outputId": "206f20e9-85ac-4eb8-9d7a-6aff6740f968"
      },
      "source": [
        "#pie chart of the column fuel\n",
        "y2 = data['fuel'].value_counts()\n",
        "labels = [\"Petrol\",\"Diesel\"]\n",
        "plt.pie(y1, labels = labels, autopct = '%.3f')\n",
        "plt.title('Fuel')\n",
        "plt.show()"
      ],
      "execution_count": 197,
      "outputs": [
        {
          "output_type": "display_data",
          "data": {
            "image/png": "[encoded data removed]",
            "text/plain": [
              "<Figure size 432x288 with 1 Axes>"
            ]
          },
          "metadata": {}
        }
      ]
    },
    {
      "cell_type": "code",
      "metadata": {
        "colab": {
          "base_uri": "https://localhost:8080/",
          "height": 202
        },
        "id": "5WSCg7b2_2wM",
        "outputId": "7f58433b-f1e9-4c7d-c7f3-5b6b53d6c62d"
      },
      "source": [
        "#Removing ',' from km_driven column\n",
        "data['km_driven']=data['km_driven'].apply(lambda x: x.replace(',','') if x!='-' else '-')\n",
        "data.head()"
      ],
      "execution_count": 198,
      "outputs": [
        {
          "output_type": "execute_result",
          "data": {
            "text/html": [
              "<div>\n",
              "<style scoped>\n",
              "    .dataframe tbody tr th:only-of-type {\n",
              "        vertical-align: middle;\n",
              "    }\n",
              "\n",
              "    .dataframe tbody tr th {\n",
              "        vertical-align: top;\n",
              "    }\n",
              "\n",
              "    .dataframe thead th {\n",
              "        text-align: right;\n",
              "    }\n",
              "</style>\n",
              "<table border=\"1\" class=\"dataframe\">\n",
              "  <thead>\n",
              "    <tr style=\"text-align: right;\">\n",
              "      <th></th>\n",
              "      <th>name</th>\n",
              "      <th>selling_price</th>\n",
              "      <th>km_driven</th>\n",
              "      <th>fuel</th>\n",
              "      <th>transmission</th>\n",
              "    </tr>\n",
              "  </thead>\n",
              "  <tbody>\n",
              "    <tr>\n",
              "      <th>0</th>\n",
              "      <td>2013 Maruti Swift Dzire</td>\n",
              "      <td>3,75,199</td>\n",
              "      <td>88228 km</td>\n",
              "      <td>Diesel</td>\n",
              "      <td>Manual</td>\n",
              "    </tr>\n",
              "    <tr>\n",
              "      <th>1</th>\n",
              "      <td>2011 BMW 3 Series</td>\n",
              "      <td>6,43,699</td>\n",
              "      <td>90696 km</td>\n",
              "      <td>Diesel</td>\n",
              "      <td>Automatic</td>\n",
              "    </tr>\n",
              "    <tr>\n",
              "      <th>2</th>\n",
              "      <td>2014 Maruti Ertiga</td>\n",
              "      <td>4,36,499</td>\n",
              "      <td>78074 km</td>\n",
              "      <td>Diesel</td>\n",
              "      <td>Manual</td>\n",
              "    </tr>\n",
              "    <tr>\n",
              "      <th>3</th>\n",
              "      <td>2013 Maruti Ertiga</td>\n",
              "      <td>5,41,699</td>\n",
              "      <td>27420 km</td>\n",
              "      <td>Diesel</td>\n",
              "      <td>Manual</td>\n",
              "    </tr>\n",
              "    <tr>\n",
              "      <th>4</th>\n",
              "      <td>2015 Maruti Swift</td>\n",
              "      <td>3,98,199</td>\n",
              "      <td>41046 km</td>\n",
              "      <td>Petrol</td>\n",
              "      <td>Manual</td>\n",
              "    </tr>\n",
              "  </tbody>\n",
              "</table>\n",
              "</div>"
            ],
            "text/plain": [
              "                      name selling_price km_driven    fuel transmission\n",
              "0  2013 Maruti Swift Dzire      3,75,199  88228 km  Diesel       Manual\n",
              "1        2011 BMW 3 Series      6,43,699  90696 km  Diesel    Automatic\n",
              "2       2014 Maruti Ertiga      4,36,499  78074 km  Diesel       Manual\n",
              "3       2013 Maruti Ertiga      5,41,699  27420 km  Diesel       Manual\n",
              "4        2015 Maruti Swift      3,98,199  41046 km  Petrol       Manual"
            ]
          },
          "metadata": {},
          "execution_count": 198
        }
      ]
    },
    {
      "cell_type": "code",
      "metadata": {
        "colab": {
          "base_uri": "https://localhost:8080/",
          "height": 202
        },
        "id": "4bSgnRFd_-hN",
        "outputId": "015201f2-c656-4423-df1c-6bee40c7718c"
      },
      "source": [
        "#Removing km word from km_driven\n",
        "data['km_driven']=data['km_driven'].apply(lambda x: int(x.split(' ')[0]) if x!='-' else 0)\n",
        "data.head()"
      ],
      "execution_count": 199,
      "outputs": [
        {
          "output_type": "execute_result",
          "data": {
            "text/html": [
              "<div>\n",
              "<style scoped>\n",
              "    .dataframe tbody tr th:only-of-type {\n",
              "        vertical-align: middle;\n",
              "    }\n",
              "\n",
              "    .dataframe tbody tr th {\n",
              "        vertical-align: top;\n",
              "    }\n",
              "\n",
              "    .dataframe thead th {\n",
              "        text-align: right;\n",
              "    }\n",
              "</style>\n",
              "<table border=\"1\" class=\"dataframe\">\n",
              "  <thead>\n",
              "    <tr style=\"text-align: right;\">\n",
              "      <th></th>\n",
              "      <th>name</th>\n",
              "      <th>selling_price</th>\n",
              "      <th>km_driven</th>\n",
              "      <th>fuel</th>\n",
              "      <th>transmission</th>\n",
              "    </tr>\n",
              "  </thead>\n",
              "  <tbody>\n",
              "    <tr>\n",
              "      <th>0</th>\n",
              "      <td>2013 Maruti Swift Dzire</td>\n",
              "      <td>3,75,199</td>\n",
              "      <td>88228</td>\n",
              "      <td>Diesel</td>\n",
              "      <td>Manual</td>\n",
              "    </tr>\n",
              "    <tr>\n",
              "      <th>1</th>\n",
              "      <td>2011 BMW 3 Series</td>\n",
              "      <td>6,43,699</td>\n",
              "      <td>90696</td>\n",
              "      <td>Diesel</td>\n",
              "      <td>Automatic</td>\n",
              "    </tr>\n",
              "    <tr>\n",
              "      <th>2</th>\n",
              "      <td>2014 Maruti Ertiga</td>\n",
              "      <td>4,36,499</td>\n",
              "      <td>78074</td>\n",
              "      <td>Diesel</td>\n",
              "      <td>Manual</td>\n",
              "    </tr>\n",
              "    <tr>\n",
              "      <th>3</th>\n",
              "      <td>2013 Maruti Ertiga</td>\n",
              "      <td>5,41,699</td>\n",
              "      <td>27420</td>\n",
              "      <td>Diesel</td>\n",
              "      <td>Manual</td>\n",
              "    </tr>\n",
              "    <tr>\n",
              "      <th>4</th>\n",
              "      <td>2015 Maruti Swift</td>\n",
              "      <td>3,98,199</td>\n",
              "      <td>41046</td>\n",
              "      <td>Petrol</td>\n",
              "      <td>Manual</td>\n",
              "    </tr>\n",
              "  </tbody>\n",
              "</table>\n",
              "</div>"
            ],
            "text/plain": [
              "                      name selling_price  km_driven    fuel transmission\n",
              "0  2013 Maruti Swift Dzire      3,75,199      88228  Diesel       Manual\n",
              "1        2011 BMW 3 Series      6,43,699      90696  Diesel    Automatic\n",
              "2       2014 Maruti Ertiga      4,36,499      78074  Diesel       Manual\n",
              "3       2013 Maruti Ertiga      5,41,699      27420  Diesel       Manual\n",
              "4        2015 Maruti Swift      3,98,199      41046  Petrol       Manual"
            ]
          },
          "metadata": {},
          "execution_count": 199
        }
      ]
    },
    {
      "cell_type": "code",
      "metadata": {
        "id": "7HUwHFAGA1Ku"
      },
      "source": [
        "try:\n",
        "    data['selling_price']=data['selling_price'].apply(lambda x: x.split(' ')[1] if x!='-' else '0,0')\n",
        "except IndexError:\n",
        "    pass"
      ],
      "execution_count": 200,
      "outputs": []
    },
    {
      "cell_type": "code",
      "metadata": {
        "id": "T2WCGSn9BC8f"
      },
      "source": [
        "try:\n",
        "    data['selling_price']=data['selling_price'].apply(lambda x: str(x.replace(',', '')))\n",
        "except ValueError:\n",
        "    pass"
      ],
      "execution_count": 201,
      "outputs": []
    },
    {
      "cell_type": "code",
      "metadata": {
        "id": "R990erSuA_o9"
      },
      "source": [
        "data['selling_price'] = pd.to_numeric(data['selling_price'].str.replace('-','0'), errors='coerce')"
      ],
      "execution_count": 202,
      "outputs": []
    },
    {
      "cell_type": "code",
      "metadata": {
        "colab": {
          "base_uri": "https://localhost:8080/"
        },
        "id": "4nVK2OjNBYu-",
        "outputId": "bfada18a-edec-467f-c46e-bd47b0d9c32c"
      },
      "source": [
        "#creating a new column year\n",
        "data['Year'] = data['name'].str[:5]\n",
        "print(data)"
      ],
      "execution_count": 203,
      "outputs": [
        {
          "output_type": "stream",
          "name": "stdout",
          "text": [
            "                         name  selling_price  ...  transmission   Year\n",
            "0     2013 Maruti Swift Dzire         375199  ...        Manual  2013 \n",
            "1           2011 BMW 3 Series         643699  ...     Automatic  2011 \n",
            "2          2014 Maruti Ertiga         436499  ...        Manual  2014 \n",
            "3          2013 Maruti Ertiga         541699  ...        Manual  2013 \n",
            "4           2015 Maruti Swift         398199  ...        Manual  2015 \n",
            "...                       ...            ...  ...           ...    ...\n",
            "1068       2017 Hyundai Creta        1127699  ...     Automatic  2017 \n",
            "1069       2020 Maruti Ertiga         935599  ...        Manual  2020 \n",
            "1070       2016 Maruti Baleno         604799  ...        Manual  2016 \n",
            "1071      2014 Nissan Terrano         447599  ...        Manual  2014 \n",
            "1072       2017 Maruti Baleno         618099  ...        Manual  2017 \n",
            "\n",
            "[1073 rows x 6 columns]\n"
          ]
        }
      ]
    },
    {
      "cell_type": "code",
      "metadata": {
        "colab": {
          "base_uri": "https://localhost:8080/",
          "height": 414
        },
        "id": "1e1cMmsjBxTy",
        "outputId": "655d05d4-d76b-4b30-a20c-564148538065"
      },
      "source": [
        "#deleting the year from the name column\n",
        "data['name'] = data['name'].str[4:]\n",
        "data"
      ],
      "execution_count": 204,
      "outputs": [
        {
          "output_type": "execute_result",
          "data": {
            "text/html": [
              "<div>\n",
              "<style scoped>\n",
              "    .dataframe tbody tr th:only-of-type {\n",
              "        vertical-align: middle;\n",
              "    }\n",
              "\n",
              "    .dataframe tbody tr th {\n",
              "        vertical-align: top;\n",
              "    }\n",
              "\n",
              "    .dataframe thead th {\n",
              "        text-align: right;\n",
              "    }\n",
              "</style>\n",
              "<table border=\"1\" class=\"dataframe\">\n",
              "  <thead>\n",
              "    <tr style=\"text-align: right;\">\n",
              "      <th></th>\n",
              "      <th>name</th>\n",
              "      <th>selling_price</th>\n",
              "      <th>km_driven</th>\n",
              "      <th>fuel</th>\n",
              "      <th>transmission</th>\n",
              "      <th>Year</th>\n",
              "    </tr>\n",
              "  </thead>\n",
              "  <tbody>\n",
              "    <tr>\n",
              "      <th>0</th>\n",
              "      <td>Maruti Swift Dzire</td>\n",
              "      <td>375199</td>\n",
              "      <td>88228</td>\n",
              "      <td>Diesel</td>\n",
              "      <td>Manual</td>\n",
              "      <td>2013</td>\n",
              "    </tr>\n",
              "    <tr>\n",
              "      <th>1</th>\n",
              "      <td>BMW 3 Series</td>\n",
              "      <td>643699</td>\n",
              "      <td>90696</td>\n",
              "      <td>Diesel</td>\n",
              "      <td>Automatic</td>\n",
              "      <td>2011</td>\n",
              "    </tr>\n",
              "    <tr>\n",
              "      <th>2</th>\n",
              "      <td>Maruti Ertiga</td>\n",
              "      <td>436499</td>\n",
              "      <td>78074</td>\n",
              "      <td>Diesel</td>\n",
              "      <td>Manual</td>\n",
              "      <td>2014</td>\n",
              "    </tr>\n",
              "    <tr>\n",
              "      <th>3</th>\n",
              "      <td>Maruti Ertiga</td>\n",
              "      <td>541699</td>\n",
              "      <td>27420</td>\n",
              "      <td>Diesel</td>\n",
              "      <td>Manual</td>\n",
              "      <td>2013</td>\n",
              "    </tr>\n",
              "    <tr>\n",
              "      <th>4</th>\n",
              "      <td>Maruti Swift</td>\n",
              "      <td>398199</td>\n",
              "      <td>41046</td>\n",
              "      <td>Petrol</td>\n",
              "      <td>Manual</td>\n",
              "      <td>2015</td>\n",
              "    </tr>\n",
              "    <tr>\n",
              "      <th>...</th>\n",
              "      <td>...</td>\n",
              "      <td>...</td>\n",
              "      <td>...</td>\n",
              "      <td>...</td>\n",
              "      <td>...</td>\n",
              "      <td>...</td>\n",
              "    </tr>\n",
              "    <tr>\n",
              "      <th>1068</th>\n",
              "      <td>Hyundai Creta</td>\n",
              "      <td>1127699</td>\n",
              "      <td>77777</td>\n",
              "      <td>Diesel</td>\n",
              "      <td>Automatic</td>\n",
              "      <td>2017</td>\n",
              "    </tr>\n",
              "    <tr>\n",
              "      <th>1069</th>\n",
              "      <td>Maruti Ertiga</td>\n",
              "      <td>935599</td>\n",
              "      <td>10408</td>\n",
              "      <td>Petrol</td>\n",
              "      <td>Manual</td>\n",
              "      <td>2020</td>\n",
              "    </tr>\n",
              "    <tr>\n",
              "      <th>1070</th>\n",
              "      <td>Maruti Baleno</td>\n",
              "      <td>604799</td>\n",
              "      <td>103172</td>\n",
              "      <td>Petrol</td>\n",
              "      <td>Manual</td>\n",
              "      <td>2016</td>\n",
              "    </tr>\n",
              "    <tr>\n",
              "      <th>1071</th>\n",
              "      <td>Nissan Terrano</td>\n",
              "      <td>447599</td>\n",
              "      <td>53750</td>\n",
              "      <td>Diesel</td>\n",
              "      <td>Manual</td>\n",
              "      <td>2014</td>\n",
              "    </tr>\n",
              "    <tr>\n",
              "      <th>1072</th>\n",
              "      <td>Maruti Baleno</td>\n",
              "      <td>618099</td>\n",
              "      <td>18994</td>\n",
              "      <td>Petrol</td>\n",
              "      <td>Manual</td>\n",
              "      <td>2017</td>\n",
              "    </tr>\n",
              "  </tbody>\n",
              "</table>\n",
              "<p>1073 rows × 6 columns</p>\n",
              "</div>"
            ],
            "text/plain": [
              "                     name  selling_price  km_driven    fuel transmission   Year\n",
              "0      Maruti Swift Dzire         375199      88228  Diesel       Manual  2013 \n",
              "1            BMW 3 Series         643699      90696  Diesel    Automatic  2011 \n",
              "2           Maruti Ertiga         436499      78074  Diesel       Manual  2014 \n",
              "3           Maruti Ertiga         541699      27420  Diesel       Manual  2013 \n",
              "4            Maruti Swift         398199      41046  Petrol       Manual  2015 \n",
              "...                   ...            ...        ...     ...          ...    ...\n",
              "1068        Hyundai Creta        1127699      77777  Diesel    Automatic  2017 \n",
              "1069        Maruti Ertiga         935599      10408  Petrol       Manual  2020 \n",
              "1070        Maruti Baleno         604799     103172  Petrol       Manual  2016 \n",
              "1071       Nissan Terrano         447599      53750  Diesel       Manual  2014 \n",
              "1072        Maruti Baleno         618099      18994  Petrol       Manual  2017 \n",
              "\n",
              "[1073 rows x 6 columns]"
            ]
          },
          "metadata": {},
          "execution_count": 204
        }
      ]
    },
    {
      "cell_type": "code",
      "metadata": {
        "colab": {
          "base_uri": "https://localhost:8080/"
        },
        "id": "7aVx7GVQDdNV",
        "outputId": "8ae46f50-9ea0-4246-fba3-07c91b2b35b7"
      },
      "source": [
        "#value counts of name column\n",
        "data['name'].value_counts()"
      ],
      "execution_count": 205,
      "outputs": [
        {
          "output_type": "execute_result",
          "data": {
            "text/plain": [
              " KIA SELTOS              198\n",
              " Maruti Swift            164\n",
              " Hyundai Creta           103\n",
              " Nissan Terrano           94\n",
              " Maruti Wagon R 1.0       86\n",
              " Maruti Ertiga            75\n",
              " Maruti Baleno            74\n",
              " Maruti Vitara Brezza     73\n",
              " Maruti Swift Dzire       44\n",
              " Maruti S PRESSO          36\n",
              " Hyundai Grand i10        36\n",
              " Maruti Alto K10          35\n",
              " BMW 3 Series             20\n",
              " Maruti Ritz              18\n",
              " Honda Amaze              17\n",
              "Name: name, dtype: int64"
            ]
          },
          "metadata": {},
          "execution_count": 205
        }
      ]
    },
    {
      "cell_type": "code",
      "metadata": {
        "colab": {
          "base_uri": "https://localhost:8080/",
          "height": 527
        },
        "id": "mnfnxmFkENf5",
        "outputId": "7510ae3e-d7d3-47d2-c9a2-44c1d0e09ebc"
      },
      "source": [
        "#Value_counts for year\n",
        "print(data['Year'].value_counts())\n",
        "\n",
        "#Plotting year vs number of cars\n",
        "purchased_car = data['Year'].value_counts()\n",
        "purchased_car.plot(kind='bar')\n",
        "plt.xlabel(\"Year\")\n",
        "plt.ylabel(\"Purchased Cars\")\n",
        "plt.title(\"Year vs Purchased cars\")\n",
        "plt.show()\n"
      ],
      "execution_count": 206,
      "outputs": [
        {
          "output_type": "stream",
          "name": "stdout",
          "text": [
            "2020     249\n",
            "2014     176\n",
            "2016     151\n",
            "2017     128\n",
            "2015     125\n",
            "2018      87\n",
            "2019      60\n",
            "2011      37\n",
            "2013      34\n",
            "2009      18\n",
            "2012       8\n",
            "Name: Year, dtype: int64\n"
          ]
        },
        {
          "output_type": "display_data",
          "data": {
            "image/png": "[encoded data removed]",
            "text/plain": [
              "<Figure size 432x288 with 1 Axes>"
            ]
          },
          "metadata": {
            "needs_background": "light"
          }
        }
      ]
    },
    {
      "cell_type": "markdown",
      "metadata": {
        "id": "8uOyTIHqqCY7"
      },
      "source": [
        "Recent cars are purchased more."
      ]
    },
    {
      "cell_type": "code",
      "metadata": {
        "colab": {
          "base_uri": "https://localhost:8080/",
          "height": 531
        },
        "id": "3sStWAbZRHRw",
        "outputId": "2869634a-7476-416a-af13-6cae1af1033d"
      },
      "source": [
        "fig, ax = plt.subplots(figsize=(12,8))\n",
        "sns.countplot(data['transmission'], hue = data['fuel'], ax = ax)\n",
        "plt.title('count plot for transmission and fuel')"
      ],
      "execution_count": 207,
      "outputs": [
        {
          "output_type": "execute_result",
          "data": {
            "text/plain": [
              "Text(0.5, 1.0, 'count plot for transmission and fuel')"
            ]
          },
          "metadata": {},
          "execution_count": 207
        },
        {
          "output_type": "display_data",
          "data": {
            "image/png": "[encoded data removed]",
            "text/plain": [
              "<Figure size 864x576 with 1 Axes>"
            ]
          },
          "metadata": {
            "needs_background": "light"
          }
        }
      ]
    },
    {
      "cell_type": "code",
      "metadata": {
        "colab": {
          "base_uri": "https://localhost:8080/",
          "height": 531
        },
        "id": "f1HZfLwfRg0O",
        "outputId": "bc787f3b-a5bf-4b1e-f4f2-1e853831c3b2"
      },
      "source": [
        "fig, ax = plt.subplots(figsize=(12,8))\n",
        "sns.countplot(data['Year'], hue = data['name'], ax = ax)\n",
        "plt.title('count plot for transmission and fuel')"
      ],
      "execution_count": 208,
      "outputs": [
        {
          "output_type": "execute_result",
          "data": {
            "text/plain": [
              "Text(0.5, 1.0, 'count plot for transmission and fuel')"
            ]
          },
          "metadata": {},
          "execution_count": 208
        },
        {
          "output_type": "display_data",
          "data": {
            "image/png": "[encoded data removed]",
            "text/plain": [
              "<Figure size 864x576 with 1 Axes>"
            ]
          },
          "metadata": {
            "needs_background": "light"
          }
        }
      ]
    },
    {
      "cell_type": "code",
      "metadata": {
        "colab": {
          "base_uri": "https://localhost:8080/",
          "height": 514
        },
        "id": "hbN5y28JSK7v",
        "outputId": "821c8526-e4c6-428e-e8fc-e29d89e41310"
      },
      "source": [
        "#Plotting pairplot for transmission\n",
        "sns.pairplot(data,hue = 'transmission',diag_kind = \"kde\",kind = \"scatter\",palette = \"husl\",height=3.5) \n",
        "plt.show()"
      ],
      "execution_count": 209,
      "outputs": [
        {
          "output_type": "display_data",
          "data": {
            "image/png": "[encoded data removed]",
            "text/plain": [
              "<Figure size 591.125x504 with 6 Axes>"
            ]
          },
          "metadata": {
            "needs_background": "light"
          }
        }
      ]
    },
    {
      "cell_type": "code",
      "metadata": {
        "colab": {
          "base_uri": "https://localhost:8080/",
          "height": 514
        },
        "id": "2qGAIzueS_SD",
        "outputId": "f96af07e-023d-4c20-d647-13e1a682dfc7"
      },
      "source": [
        "fig, ax = plt.subplots(figsize=(22,8))\n",
        "sns.countplot(data['name'], ax = ax)"
      ],
      "execution_count": 210,
      "outputs": [
        {
          "output_type": "execute_result",
          "data": {
            "text/plain": [
              "<matplotlib.axes._subplots.AxesSubplot at 0x7f849361df10>"
            ]
          },
          "metadata": {},
          "execution_count": 210
        },
        {
          "output_type": "display_data",
          "data": {
            "image/png": "[encoded data removed]",
            "text/plain": [
              "<Figure size 1584x576 with 1 Axes>"
            ]
          },
          "metadata": {
            "needs_background": "light"
          }
        }
      ]
    },
    {
      "cell_type": "code",
      "metadata": {
        "colab": {
          "base_uri": "https://localhost:8080/",
          "height": 456
        },
        "id": "oLZQskLtTVXW",
        "outputId": "5620951d-4cd1-44a7-889a-3e62e0f8c555"
      },
      "source": [
        "data.hist(figsize = (15,6), grid = False)"
      ],
      "execution_count": 211,
      "outputs": [
        {
          "output_type": "execute_result",
          "data": {
            "text/plain": [
              "array([[<matplotlib.axes._subplots.AxesSubplot object at 0x7f849355b290>,\n",
              "        <matplotlib.axes._subplots.AxesSubplot object at 0x7f84934fb0d0>]],\n",
              "      dtype=object)"
            ]
          },
          "metadata": {},
          "execution_count": 211
        },
        {
          "output_type": "display_data",
          "data": {
            "image/png": "[encoded data removed]",
            "text/plain": [
              "<Figure size 1080x432 with 2 Axes>"
            ]
          },
          "metadata": {
            "needs_background": "light"
          }
        }
      ]
    },
    {
      "cell_type": "code",
      "metadata": {
        "colab": {
          "base_uri": "https://localhost:8080/",
          "height": 110
        },
        "id": "3_XnuiDfZnrQ",
        "outputId": "670bb389-28cb-4fe6-dbfe-d65967da61b4"
      },
      "source": [
        "#Checking correlation of the dataset\n",
        "corr = data.corr()  #corr() function provides the correlation value of each column\n",
        "corr"
      ],
      "execution_count": 212,
      "outputs": [
        {
          "output_type": "execute_result",
          "data": {
            "text/html": [
              "<div>\n",
              "<style scoped>\n",
              "    .dataframe tbody tr th:only-of-type {\n",
              "        vertical-align: middle;\n",
              "    }\n",
              "\n",
              "    .dataframe tbody tr th {\n",
              "        vertical-align: top;\n",
              "    }\n",
              "\n",
              "    .dataframe thead th {\n",
              "        text-align: right;\n",
              "    }\n",
              "</style>\n",
              "<table border=\"1\" class=\"dataframe\">\n",
              "  <thead>\n",
              "    <tr style=\"text-align: right;\">\n",
              "      <th></th>\n",
              "      <th>selling_price</th>\n",
              "      <th>km_driven</th>\n",
              "    </tr>\n",
              "  </thead>\n",
              "  <tbody>\n",
              "    <tr>\n",
              "      <th>selling_price</th>\n",
              "      <td>1.000000</td>\n",
              "      <td>-0.538585</td>\n",
              "    </tr>\n",
              "    <tr>\n",
              "      <th>km_driven</th>\n",
              "      <td>-0.538585</td>\n",
              "      <td>1.000000</td>\n",
              "    </tr>\n",
              "  </tbody>\n",
              "</table>\n",
              "</div>"
            ],
            "text/plain": [
              "               selling_price  km_driven\n",
              "selling_price       1.000000  -0.538585\n",
              "km_driven          -0.538585   1.000000"
            ]
          },
          "metadata": {},
          "execution_count": 212
        }
      ]
    },
    {
      "cell_type": "code",
      "metadata": {
        "colab": {
          "base_uri": "https://localhost:8080/",
          "height": 270
        },
        "id": "AsMJkEMrT2jI",
        "outputId": "d138c145-9082-4653-afee-cb9ae261e5e2"
      },
      "source": [
        "#Plotting heatmap for visualizing the correlation\n",
        "plt.figure(figsize=(6,4))\n",
        "sns.heatmap(corr,linewidth=0.5,linecolor='black',fmt='.0%',cmap='rainbow',annot=True)\n",
        "plt.show()"
      ],
      "execution_count": 213,
      "outputs": [
        {
          "output_type": "display_data",
          "data": {
            "image/png": "[encoded data removed]",
            "text/plain": [
              "<Figure size 432x288 with 2 Axes>"
            ]
          },
          "metadata": {
            "needs_background": "light"
          }
        }
      ]
    },
    {
      "cell_type": "code",
      "metadata": {
        "colab": {
          "base_uri": "https://localhost:8080/",
          "height": 414
        },
        "id": "Q0NpllvIT0oR",
        "outputId": "59a6e68a-23f7-4907-ba7c-bfaa3d77cca6"
      },
      "source": [
        "data"
      ],
      "execution_count": 214,
      "outputs": [
        {
          "output_type": "execute_result",
          "data": {
            "text/html": [
              "<div>\n",
              "<style scoped>\n",
              "    .dataframe tbody tr th:only-of-type {\n",
              "        vertical-align: middle;\n",
              "    }\n",
              "\n",
              "    .dataframe tbody tr th {\n",
              "        vertical-align: top;\n",
              "    }\n",
              "\n",
              "    .dataframe thead th {\n",
              "        text-align: right;\n",
              "    }\n",
              "</style>\n",
              "<table border=\"1\" class=\"dataframe\">\n",
              "  <thead>\n",
              "    <tr style=\"text-align: right;\">\n",
              "      <th></th>\n",
              "      <th>name</th>\n",
              "      <th>selling_price</th>\n",
              "      <th>km_driven</th>\n",
              "      <th>fuel</th>\n",
              "      <th>transmission</th>\n",
              "      <th>Year</th>\n",
              "    </tr>\n",
              "  </thead>\n",
              "  <tbody>\n",
              "    <tr>\n",
              "      <th>0</th>\n",
              "      <td>Maruti Swift Dzire</td>\n",
              "      <td>375199</td>\n",
              "      <td>88228</td>\n",
              "      <td>Diesel</td>\n",
              "      <td>Manual</td>\n",
              "      <td>2013</td>\n",
              "    </tr>\n",
              "    <tr>\n",
              "      <th>1</th>\n",
              "      <td>BMW 3 Series</td>\n",
              "      <td>643699</td>\n",
              "      <td>90696</td>\n",
              "      <td>Diesel</td>\n",
              "      <td>Automatic</td>\n",
              "      <td>2011</td>\n",
              "    </tr>\n",
              "    <tr>\n",
              "      <th>2</th>\n",
              "      <td>Maruti Ertiga</td>\n",
              "      <td>436499</td>\n",
              "      <td>78074</td>\n",
              "      <td>Diesel</td>\n",
              "      <td>Manual</td>\n",
              "      <td>2014</td>\n",
              "    </tr>\n",
              "    <tr>\n",
              "      <th>3</th>\n",
              "      <td>Maruti Ertiga</td>\n",
              "      <td>541699</td>\n",
              "      <td>27420</td>\n",
              "      <td>Diesel</td>\n",
              "      <td>Manual</td>\n",
              "      <td>2013</td>\n",
              "    </tr>\n",
              "    <tr>\n",
              "      <th>4</th>\n",
              "      <td>Maruti Swift</td>\n",
              "      <td>398199</td>\n",
              "      <td>41046</td>\n",
              "      <td>Petrol</td>\n",
              "      <td>Manual</td>\n",
              "      <td>2015</td>\n",
              "    </tr>\n",
              "    <tr>\n",
              "      <th>...</th>\n",
              "      <td>...</td>\n",
              "      <td>...</td>\n",
              "      <td>...</td>\n",
              "      <td>...</td>\n",
              "      <td>...</td>\n",
              "      <td>...</td>\n",
              "    </tr>\n",
              "    <tr>\n",
              "      <th>1068</th>\n",
              "      <td>Hyundai Creta</td>\n",
              "      <td>1127699</td>\n",
              "      <td>77777</td>\n",
              "      <td>Diesel</td>\n",
              "      <td>Automatic</td>\n",
              "      <td>2017</td>\n",
              "    </tr>\n",
              "    <tr>\n",
              "      <th>1069</th>\n",
              "      <td>Maruti Ertiga</td>\n",
              "      <td>935599</td>\n",
              "      <td>10408</td>\n",
              "      <td>Petrol</td>\n",
              "      <td>Manual</td>\n",
              "      <td>2020</td>\n",
              "    </tr>\n",
              "    <tr>\n",
              "      <th>1070</th>\n",
              "      <td>Maruti Baleno</td>\n",
              "      <td>604799</td>\n",
              "      <td>103172</td>\n",
              "      <td>Petrol</td>\n",
              "      <td>Manual</td>\n",
              "      <td>2016</td>\n",
              "    </tr>\n",
              "    <tr>\n",
              "      <th>1071</th>\n",
              "      <td>Nissan Terrano</td>\n",
              "      <td>447599</td>\n",
              "      <td>53750</td>\n",
              "      <td>Diesel</td>\n",
              "      <td>Manual</td>\n",
              "      <td>2014</td>\n",
              "    </tr>\n",
              "    <tr>\n",
              "      <th>1072</th>\n",
              "      <td>Maruti Baleno</td>\n",
              "      <td>618099</td>\n",
              "      <td>18994</td>\n",
              "      <td>Petrol</td>\n",
              "      <td>Manual</td>\n",
              "      <td>2017</td>\n",
              "    </tr>\n",
              "  </tbody>\n",
              "</table>\n",
              "<p>1073 rows × 6 columns</p>\n",
              "</div>"
            ],
            "text/plain": [
              "                     name  selling_price  km_driven    fuel transmission   Year\n",
              "0      Maruti Swift Dzire         375199      88228  Diesel       Manual  2013 \n",
              "1            BMW 3 Series         643699      90696  Diesel    Automatic  2011 \n",
              "2           Maruti Ertiga         436499      78074  Diesel       Manual  2014 \n",
              "3           Maruti Ertiga         541699      27420  Diesel       Manual  2013 \n",
              "4            Maruti Swift         398199      41046  Petrol       Manual  2015 \n",
              "...                   ...            ...        ...     ...          ...    ...\n",
              "1068        Hyundai Creta        1127699      77777  Diesel    Automatic  2017 \n",
              "1069        Maruti Ertiga         935599      10408  Petrol       Manual  2020 \n",
              "1070        Maruti Baleno         604799     103172  Petrol       Manual  2016 \n",
              "1071       Nissan Terrano         447599      53750  Diesel       Manual  2014 \n",
              "1072        Maruti Baleno         618099      18994  Petrol       Manual  2017 \n",
              "\n",
              "[1073 rows x 6 columns]"
            ]
          },
          "metadata": {},
          "execution_count": 214
        }
      ]
    },
    {
      "cell_type": "code",
      "metadata": {
        "colab": {
          "base_uri": "https://localhost:8080/"
        },
        "id": "yTCYmCJJZ8fD",
        "outputId": "a7fa39c1-f6e4-4933-9650-72fe117b420a"
      },
      "source": [
        "data['transmission'].unique()"
      ],
      "execution_count": 215,
      "outputs": [
        {
          "output_type": "execute_result",
          "data": {
            "text/plain": [
              "array(['Manual', 'Automatic', nan], dtype=object)"
            ]
          },
          "metadata": {},
          "execution_count": 215
        }
      ]
    },
    {
      "cell_type": "code",
      "metadata": {
        "id": "d1cWRsy_dcma"
      },
      "source": [
        "data['transmission'].fillna('Manual', inplace=True)"
      ],
      "execution_count": 216,
      "outputs": []
    },
    {
      "cell_type": "code",
      "metadata": {
        "colab": {
          "base_uri": "https://localhost:8080/"
        },
        "id": "3IeVYmomdukX",
        "outputId": "6138d09b-874f-4304-dc4a-63e23b892b53"
      },
      "source": [
        "data['transmission'].unique()"
      ],
      "execution_count": 217,
      "outputs": [
        {
          "output_type": "execute_result",
          "data": {
            "text/plain": [
              "array(['Manual', 'Automatic'], dtype=object)"
            ]
          },
          "metadata": {},
          "execution_count": 217
        }
      ]
    },
    {
      "cell_type": "code",
      "metadata": {
        "id": "f8zQQDfSeBP0"
      },
      "source": [
        "from sklearn.preprocessing import LabelEncoder\n",
        "lab_enc = LabelEncoder()\n",
        "\n",
        "data['fuel'] = lab_enc.fit_transform(data['fuel'])\n",
        "data['transmission'] = lab_enc.fit_transform(data['transmission'])"
      ],
      "execution_count": 218,
      "outputs": []
    },
    {
      "cell_type": "code",
      "metadata": {
        "id": "pYeddnAmeVK2"
      },
      "source": [
        "data['name'] = lab_enc.fit_transform(data['name'])\n",
        "data['Year'] = lab_enc.fit_transform(data['Year'])"
      ],
      "execution_count": 219,
      "outputs": []
    },
    {
      "cell_type": "code",
      "metadata": {
        "colab": {
          "base_uri": "https://localhost:8080/",
          "height": 571
        },
        "id": "5FMeWBbjep6P",
        "outputId": "7ec5e924-b7f7-4851-9f6a-aeaaa3190bf9"
      },
      "source": [
        "#Correlation with target variable\n",
        "plt.figure(figsize=(12,8))\n",
        "data.drop('selling_price',axis=1).corrwith(data['selling_price']).plot(kind='bar',grid=True)\n",
        "plt.title('Correlation with Target variable')"
      ],
      "execution_count": 220,
      "outputs": [
        {
          "output_type": "execute_result",
          "data": {
            "text/plain": [
              "Text(0.5, 1.0, 'Correlation with Target variable')"
            ]
          },
          "metadata": {},
          "execution_count": 220
        },
        {
          "output_type": "display_data",
          "data": {
            "image/png": "[encoded data removed]",
            "text/plain": [
              "<Figure size 864x576 with 1 Axes>"
            ]
          },
          "metadata": {
            "needs_background": "light"
          }
        }
      ]
    },
    {
      "cell_type": "code",
      "metadata": {
        "colab": {
          "base_uri": "https://localhost:8080/"
        },
        "id": "MTKxAP_Der6E",
        "outputId": "4d9bb01a-7555-49af-8709-2c464aff052a"
      },
      "source": [
        "data.skew()"
      ],
      "execution_count": 221,
      "outputs": [
        {
          "output_type": "execute_result",
          "data": {
            "text/plain": [
              "name             0.031300\n",
              "selling_price    0.668200\n",
              "km_driven        0.590989\n",
              "fuel            -0.465669\n",
              "transmission    -3.296236\n",
              "Year            -0.268285\n",
              "dtype: float64"
            ]
          },
          "metadata": {},
          "execution_count": 221
        }
      ]
    },
    {
      "cell_type": "code",
      "metadata": {
        "colab": {
          "base_uri": "https://localhost:8080/",
          "height": 1000
        },
        "id": "Ng4e4N0BfEQ_",
        "outputId": "82c09e0b-e8f8-4643-ceab-77b5d3978f20"
      },
      "source": [
        "#Plotting distplot for checking the distribution of skewness\n",
        "for col in data.describe().columns:\n",
        "    sns.distplot(data[col])\n",
        "    plt.show()"
      ],
      "execution_count": 222,
      "outputs": [
        {
          "output_type": "display_data",
          "data": {
            "image/png": "[encoded data removed]",
            "text/plain": [
              "<Figure size 432x288 with 1 Axes>"
            ]
          },
          "metadata": {
            "needs_background": "light"
          }
        },
        {
          "output_type": "display_data",
          "data": {
            "image/png": "[encoded data removed]",
            "text/plain": [
              "<Figure size 432x288 with 1 Axes>"
            ]
          },
          "metadata": {
            "needs_background": "light"
          }
        },
        {
          "output_type": "display_data",
          "data": {
            "image/png": "[encoded data removed]",
            "text/plain": [
              "<Figure size 432x288 with 1 Axes>"
            ]
          },
          "metadata": {
            "needs_background": "light"
          }
        },
        {
          "output_type": "display_data",
          "data": {
            "image/png": "[encoded data removed]",
            "text/plain": [
              "<Figure size 432x288 with 1 Axes>"
            ]
          },
          "metadata": {
            "needs_background": "light"
          }
        },
        {
          "output_type": "display_data",
          "data": {
            "image/png": "[encoded data removed]",
            "text/plain": [
              "<Figure size 432x288 with 1 Axes>"
            ]
          },
          "metadata": {
            "needs_background": "light"
          }
        },
        {
          "output_type": "display_data",
          "data": {
            "image/png": "[encoded data removed]",
            "text/plain": [
              "<Figure size 432x288 with 1 Axes>"
            ]
          },
          "metadata": {
            "needs_background": "light"
          }
        }
      ]
    },
    {
      "cell_type": "code",
      "metadata": {
        "colab": {
          "base_uri": "https://localhost:8080/",
          "height": 712
        },
        "id": "-iLJXLK6fNMj",
        "outputId": "831ea52d-beb1-4992-a8c7-e564efe515bb"
      },
      "source": [
        "fig, ax = plt.subplots(1, 1, figsize=(20, 12))\n",
        "sns.boxplot(data = data, ax=ax)\n",
        "plt.show()\n"
      ],
      "execution_count": 223,
      "outputs": [
        {
          "output_type": "display_data",
          "data": {
            "image/png": "[encoded data removed]",
            "text/plain": [
              "<Figure size 1440x864 with 1 Axes>"
            ]
          },
          "metadata": {
            "needs_background": "light"
          }
        }
      ]
    },
    {
      "cell_type": "code",
      "metadata": {
        "colab": {
          "base_uri": "https://localhost:8080/"
        },
        "id": "o0MG0E0ffzjz",
        "outputId": "4df94b5f-700e-4fe1-b3f2-601379e07e85"
      },
      "source": [
        "#Treating the outliers (train data)\n",
        "\n",
        "# findingout the quantile of data \n",
        "\n",
        "Q1 = data.quantile(0.25)\n",
        "Q3 = data.quantile(0.75)\n",
        "IQR = Q3 - Q1\n",
        "# REMOVING OUTLIERS USING IQR METHOD\n",
        "df = data[~((data < (Q1 - 1.5 * IQR)) |(data > (Q3 + 1.5 * IQR))).any(axis=1)]\n",
        "print(\"shape before and after\")\n",
        "print(\"shape before\".ljust(20),\":\", data.shape)\n",
        "print(\"shape after\".ljust(20),\":\", df.shape)\n",
        "print(\"Percentage Loss\".ljust(20),\":\", (data.shape[0]-df.shape[0])/data.shape[0])"
      ],
      "execution_count": 224,
      "outputs": [
        {
          "output_type": "stream",
          "name": "stdout",
          "text": [
            "shape before and after\n",
            "shape before         : (1073, 6)\n",
            "shape after          : (988, 6)\n",
            "Percentage Loss      : 0.07921714818266543\n"
          ]
        }
      ]
    },
    {
      "cell_type": "code",
      "metadata": {
        "id": "iZ1oxMGwgCxg"
      },
      "source": [
        "scalar = StandardScaler()\n",
        "x_scaled = scalar.fit_transform(df)"
      ],
      "execution_count": 225,
      "outputs": []
    },
    {
      "cell_type": "code",
      "metadata": {
        "colab": {
          "base_uri": "https://localhost:8080/",
          "height": 232
        },
        "id": "0C4GcYezgZv8",
        "outputId": "3e65a009-26d4-4e89-9780-a9f233b286ec"
      },
      "source": [
        "import statsmodels\n",
        "from statsmodels.stats.outliers_influence import variance_inflation_factor\n",
        "\n",
        "x_scaled.shape[1]\n",
        "vif = pd.DataFrame()\n",
        "\n",
        "vif['Features'] = df.columns\n",
        "vif['vif'] = [variance_inflation_factor(x_scaled,i) for i in range(x_scaled.shape[1])]\n",
        "\n",
        "vif"
      ],
      "execution_count": 226,
      "outputs": [
        {
          "output_type": "execute_result",
          "data": {
            "text/html": [
              "<div>\n",
              "<style scoped>\n",
              "    .dataframe tbody tr th:only-of-type {\n",
              "        vertical-align: middle;\n",
              "    }\n",
              "\n",
              "    .dataframe tbody tr th {\n",
              "        vertical-align: top;\n",
              "    }\n",
              "\n",
              "    .dataframe thead th {\n",
              "        text-align: right;\n",
              "    }\n",
              "</style>\n",
              "<table border=\"1\" class=\"dataframe\">\n",
              "  <thead>\n",
              "    <tr style=\"text-align: right;\">\n",
              "      <th></th>\n",
              "      <th>Features</th>\n",
              "      <th>vif</th>\n",
              "    </tr>\n",
              "  </thead>\n",
              "  <tbody>\n",
              "    <tr>\n",
              "      <th>0</th>\n",
              "      <td>name</td>\n",
              "      <td>2.287996</td>\n",
              "    </tr>\n",
              "    <tr>\n",
              "      <th>1</th>\n",
              "      <td>selling_price</td>\n",
              "      <td>4.418396</td>\n",
              "    </tr>\n",
              "    <tr>\n",
              "      <th>2</th>\n",
              "      <td>km_driven</td>\n",
              "      <td>2.071477</td>\n",
              "    </tr>\n",
              "    <tr>\n",
              "      <th>3</th>\n",
              "      <td>fuel</td>\n",
              "      <td>1.946958</td>\n",
              "    </tr>\n",
              "    <tr>\n",
              "      <th>4</th>\n",
              "      <td>transmission</td>\n",
              "      <td>NaN</td>\n",
              "    </tr>\n",
              "    <tr>\n",
              "      <th>5</th>\n",
              "      <td>Year</td>\n",
              "      <td>4.091922</td>\n",
              "    </tr>\n",
              "  </tbody>\n",
              "</table>\n",
              "</div>"
            ],
            "text/plain": [
              "        Features       vif\n",
              "0           name  2.287996\n",
              "1  selling_price  4.418396\n",
              "2      km_driven  2.071477\n",
              "3           fuel  1.946958\n",
              "4   transmission       NaN\n",
              "5           Year  4.091922"
            ]
          },
          "metadata": {},
          "execution_count": 226
        }
      ]
    },
    {
      "cell_type": "markdown",
      "metadata": {
        "id": "VMwG00RBhBgF"
      },
      "source": [
        "#MODEL BUILDING"
      ]
    },
    {
      "cell_type": "code",
      "metadata": {
        "id": "RpVHZ2P5g3rs"
      },
      "source": [
        "X = df.drop('selling_price',axis=1)   #Independent variables\n",
        "Y = df['selling_price']    #Dependent or Target Variable"
      ],
      "execution_count": 231,
      "outputs": []
    },
    {
      "cell_type": "code",
      "metadata": {
        "colab": {
          "base_uri": "https://localhost:8080/",
          "height": 171
        },
        "id": "gZxk54Wfhb82",
        "outputId": "ca010c61-ca7a-4a12-dd94-523e91148cbe"
      },
      "source": [
        "\n",
        "X_train, X_test, y_train, y_test = train_test_split(\n",
        "    X, Y, test_size=0.20, random_state=30)\n",
        "\n",
        "\n",
        "models = [LinearRegression(), RandomForestRegressor(),\n",
        "          KNeighborsRegressor(n_neighbors = 4), GradientBoostingRegressor()]\n",
        "model_names = ['LR','RF', 'KNN','GB']\n",
        "\n",
        "r2 = []\n",
        "mse = []\n",
        "\n",
        "for model in range(len(models)):\n",
        "    clf = models[model]\n",
        "    clf.fit(X_train, y_train)\n",
        "    pred = clf.predict(X_test)\n",
        "    r2.append(r2_score(y_test,pred))\n",
        "    mse.append(mean_squared_error(y_test,pred))\n",
        "    \n",
        "\n",
        "models = {'Modelling Algorithm': model_names, 'r2 score': r2, 'MSE' : mse}\n",
        "models_df = pd.DataFrame(models)\n",
        "models_df"
      ],
      "execution_count": 232,
      "outputs": [
        {
          "output_type": "execute_result",
          "data": {
            "text/html": [
              "<div>\n",
              "<style scoped>\n",
              "    .dataframe tbody tr th:only-of-type {\n",
              "        vertical-align: middle;\n",
              "    }\n",
              "\n",
              "    .dataframe tbody tr th {\n",
              "        vertical-align: top;\n",
              "    }\n",
              "\n",
              "    .dataframe thead th {\n",
              "        text-align: right;\n",
              "    }\n",
              "</style>\n",
              "<table border=\"1\" class=\"dataframe\">\n",
              "  <thead>\n",
              "    <tr style=\"text-align: right;\">\n",
              "      <th></th>\n",
              "      <th>Modelling Algorithm</th>\n",
              "      <th>r2 score</th>\n",
              "      <th>MSE</th>\n",
              "    </tr>\n",
              "  </thead>\n",
              "  <tbody>\n",
              "    <tr>\n",
              "      <th>0</th>\n",
              "      <td>LR</td>\n",
              "      <td>0.802336</td>\n",
              "      <td>2.279799e+10</td>\n",
              "    </tr>\n",
              "    <tr>\n",
              "      <th>1</th>\n",
              "      <td>RF</td>\n",
              "      <td>0.998455</td>\n",
              "      <td>1.782468e+08</td>\n",
              "    </tr>\n",
              "    <tr>\n",
              "      <th>2</th>\n",
              "      <td>KNN</td>\n",
              "      <td>0.916056</td>\n",
              "      <td>9.681818e+09</td>\n",
              "    </tr>\n",
              "    <tr>\n",
              "      <th>3</th>\n",
              "      <td>GB</td>\n",
              "      <td>0.991785</td>\n",
              "      <td>9.474467e+08</td>\n",
              "    </tr>\n",
              "  </tbody>\n",
              "</table>\n",
              "</div>"
            ],
            "text/plain": [
              "  Modelling Algorithm  r2 score           MSE\n",
              "0                  LR  0.802336  2.279799e+10\n",
              "1                  RF  0.998455  1.782468e+08\n",
              "2                 KNN  0.916056  9.681818e+09\n",
              "3                  GB  0.991785  9.474467e+08"
            ]
          },
          "metadata": {},
          "execution_count": 232
        }
      ]
    },
    {
      "cell_type": "code",
      "metadata": {
        "colab": {
          "base_uri": "https://localhost:8080/",
          "height": 171
        },
        "id": "3yPJrck1hpfD",
        "outputId": "bef73b16-c86c-42f4-d27c-3d865d9c1855"
      },
      "source": [
        "#cross validation \n",
        "\n",
        "from sklearn.model_selection import KFold, cross_val_score,GridSearchCV\n",
        "\n",
        "X_train, X_test, y_train, y_test = train_test_split(\n",
        "    X, Y, test_size=0.20, random_state=30)\n",
        "\n",
        "models = [LinearRegression(), RandomForestRegressor(),\n",
        "          KNeighborsRegressor(n_neighbors = 4), GradientBoostingRegressor()]\n",
        "model_names = ['LR','RF', 'KNN','GB']\n",
        "\n",
        "\n",
        "k_f = KFold(n_splits = 4, shuffle = True)\n",
        "k_f\n",
        "\n",
        "CV_S = []\n",
        "\n",
        "for model in range(len(models)):\n",
        "    clf = models[model]\n",
        "    c = clf.fit(X_train, y_train)\n",
        "    pred = clf.predict(X_test)\n",
        "    CV_S.append(cross_val_score(c, X, Y, cv = 5).mean())\n",
        "    \n",
        "\n",
        "CV = {'Modelling Algorithm': model_names, 'CV SCORE': CV_S}\n",
        "CV_df = pd.DataFrame(CV)\n",
        "CV_df"
      ],
      "execution_count": 233,
      "outputs": [
        {
          "output_type": "execute_result",
          "data": {
            "text/html": [
              "<div>\n",
              "<style scoped>\n",
              "    .dataframe tbody tr th:only-of-type {\n",
              "        vertical-align: middle;\n",
              "    }\n",
              "\n",
              "    .dataframe tbody tr th {\n",
              "        vertical-align: top;\n",
              "    }\n",
              "\n",
              "    .dataframe thead th {\n",
              "        text-align: right;\n",
              "    }\n",
              "</style>\n",
              "<table border=\"1\" class=\"dataframe\">\n",
              "  <thead>\n",
              "    <tr style=\"text-align: right;\">\n",
              "      <th></th>\n",
              "      <th>Modelling Algorithm</th>\n",
              "      <th>CV SCORE</th>\n",
              "    </tr>\n",
              "  </thead>\n",
              "  <tbody>\n",
              "    <tr>\n",
              "      <th>0</th>\n",
              "      <td>LR</td>\n",
              "      <td>0.657514</td>\n",
              "    </tr>\n",
              "    <tr>\n",
              "      <th>1</th>\n",
              "      <td>RF</td>\n",
              "      <td>0.989432</td>\n",
              "    </tr>\n",
              "    <tr>\n",
              "      <th>2</th>\n",
              "      <td>KNN</td>\n",
              "      <td>0.762045</td>\n",
              "    </tr>\n",
              "    <tr>\n",
              "      <th>3</th>\n",
              "      <td>GB</td>\n",
              "      <td>0.979396</td>\n",
              "    </tr>\n",
              "  </tbody>\n",
              "</table>\n",
              "</div>"
            ],
            "text/plain": [
              "  Modelling Algorithm  CV SCORE\n",
              "0                  LR  0.657514\n",
              "1                  RF  0.989432\n",
              "2                 KNN  0.762045\n",
              "3                  GB  0.979396"
            ]
          },
          "metadata": {},
          "execution_count": 233
        }
      ]
    },
    {
      "cell_type": "code",
      "metadata": {
        "colab": {
          "base_uri": "https://localhost:8080/",
          "height": 171
        },
        "id": "OXo1fPUQieIp",
        "outputId": "0b001a69-dd89-4db6-d3e9-5b9224593ade"
      },
      "source": [
        "#Comparing CV Score and the r2 score:\n",
        "\n",
        "Comparison = pd.DataFrame({})\n",
        "Comparison['Modelling Algorithm'] =  model_names\n",
        "Comparison['r2 score'] = r2\n",
        "Comparison['CV SCORE'] = CV_S\n",
        "Comparison['Difference'] = [r2[0] - CV_S[0], r2[1] - CV_S[1], r2[2] - CV_S[2], r2[3] - CV_S[3]]\n",
        "Comparison"
      ],
      "execution_count": 234,
      "outputs": [
        {
          "output_type": "execute_result",
          "data": {
            "text/html": [
              "<div>\n",
              "<style scoped>\n",
              "    .dataframe tbody tr th:only-of-type {\n",
              "        vertical-align: middle;\n",
              "    }\n",
              "\n",
              "    .dataframe tbody tr th {\n",
              "        vertical-align: top;\n",
              "    }\n",
              "\n",
              "    .dataframe thead th {\n",
              "        text-align: right;\n",
              "    }\n",
              "</style>\n",
              "<table border=\"1\" class=\"dataframe\">\n",
              "  <thead>\n",
              "    <tr style=\"text-align: right;\">\n",
              "      <th></th>\n",
              "      <th>Modelling Algorithm</th>\n",
              "      <th>r2 score</th>\n",
              "      <th>CV SCORE</th>\n",
              "      <th>Difference</th>\n",
              "    </tr>\n",
              "  </thead>\n",
              "  <tbody>\n",
              "    <tr>\n",
              "      <th>0</th>\n",
              "      <td>LR</td>\n",
              "      <td>0.802336</td>\n",
              "      <td>0.657514</td>\n",
              "      <td>0.144822</td>\n",
              "    </tr>\n",
              "    <tr>\n",
              "      <th>1</th>\n",
              "      <td>RF</td>\n",
              "      <td>0.998455</td>\n",
              "      <td>0.989432</td>\n",
              "      <td>0.009022</td>\n",
              "    </tr>\n",
              "    <tr>\n",
              "      <th>2</th>\n",
              "      <td>KNN</td>\n",
              "      <td>0.916056</td>\n",
              "      <td>0.762045</td>\n",
              "      <td>0.154012</td>\n",
              "    </tr>\n",
              "    <tr>\n",
              "      <th>3</th>\n",
              "      <td>GB</td>\n",
              "      <td>0.991785</td>\n",
              "      <td>0.979396</td>\n",
              "      <td>0.012389</td>\n",
              "    </tr>\n",
              "  </tbody>\n",
              "</table>\n",
              "</div>"
            ],
            "text/plain": [
              "  Modelling Algorithm  r2 score  CV SCORE  Difference\n",
              "0                  LR  0.802336  0.657514    0.144822\n",
              "1                  RF  0.998455  0.989432    0.009022\n",
              "2                 KNN  0.916056  0.762045    0.154012\n",
              "3                  GB  0.991785  0.979396    0.012389"
            ]
          },
          "metadata": {},
          "execution_count": 234
        }
      ]
    },
    {
      "cell_type": "code",
      "metadata": {
        "id": "OIHPk-_-iimF"
      },
      "source": [
        "#HYPERPARAMETER TUNING:\n",
        "from sklearn.model_selection import GridSearchCV\n",
        "\n",
        "grid_param = {\n",
        "    'n_estimators' : range(80,121,20),\n",
        "    'min_samples_split' : range(2,10,2),\n",
        "    'max_features' : ['auto', 'sqrt', 'log2'],\n",
        "    'max_leaf_nodes' : range(3,7)\n",
        "}"
      ],
      "execution_count": 252,
      "outputs": []
    },
    {
      "cell_type": "code",
      "metadata": {
        "id": "UZdof4eajfxp"
      },
      "source": [
        "grid = GridSearchCV(RandomForestRegressor(), param_grid = grid_param)"
      ],
      "execution_count": 253,
      "outputs": []
    },
    {
      "cell_type": "code",
      "metadata": {
        "colab": {
          "base_uri": "https://localhost:8080/"
        },
        "id": "L2cX9aFGkSBq",
        "outputId": "772f802d-d40c-4647-8a8c-a96953115f99"
      },
      "source": [
        "grid.fit(X_train, y_train)"
      ],
      "execution_count": 254,
      "outputs": [
        {
          "output_type": "execute_result",
          "data": {
            "text/plain": [
              "GridSearchCV(cv=None, error_score=nan,\n",
              "             estimator=RandomForestRegressor(bootstrap=True, ccp_alpha=0.0,\n",
              "                                             criterion='mse', max_depth=None,\n",
              "                                             max_features='auto',\n",
              "                                             max_leaf_nodes=None,\n",
              "                                             max_samples=None,\n",
              "                                             min_impurity_decrease=0.0,\n",
              "                                             min_impurity_split=None,\n",
              "                                             min_samples_leaf=1,\n",
              "                                             min_samples_split=2,\n",
              "                                             min_weight_fraction_leaf=0.0,\n",
              "                                             n_estimators=100, n_jobs=None,\n",
              "                                             oob_score=False, random_state=None,\n",
              "                                             verbose=0, warm_start=False),\n",
              "             iid='deprecated', n_jobs=None,\n",
              "             param_grid={'max_features': ['auto', 'sqrt', 'log2'],\n",
              "                         'max_leaf_nodes': range(3, 7),\n",
              "                         'min_samples_split': range(2, 10, 2),\n",
              "                         'n_estimators': range(80, 121, 20)},\n",
              "             pre_dispatch='2*n_jobs', refit=True, return_train_score=False,\n",
              "             scoring=None, verbose=0)"
            ]
          },
          "metadata": {},
          "execution_count": 254
        }
      ]
    },
    {
      "cell_type": "code",
      "metadata": {
        "colab": {
          "base_uri": "https://localhost:8080/"
        },
        "id": "VSB2VP6ukU2C",
        "outputId": "89b87da1-3be2-4a71-d649-6d42af2a69d9"
      },
      "source": [
        "best_parameters = grid.best_params_\n",
        "print(best_parameters)"
      ],
      "execution_count": 255,
      "outputs": [
        {
          "output_type": "stream",
          "name": "stdout",
          "text": [
            "{'max_features': 'auto', 'max_leaf_nodes': 6, 'min_samples_split': 4, 'n_estimators': 120}\n"
          ]
        }
      ]
    },
    {
      "cell_type": "code",
      "metadata": {
        "colab": {
          "base_uri": "https://localhost:8080/"
        },
        "id": "P4Idx1zpkbfl",
        "outputId": "e4953f1d-6e9f-4bd3-cfc6-e8748a79a97b"
      },
      "source": [
        "\n",
        "#Substituting the best parameters in the RandomForestRegressor:\n",
        "\n",
        "RFR =  RandomForestRegressor(max_features = 'auto', max_leaf_nodes = 6, min_samples_split = 4, n_estimators = 120)\n",
        "\n",
        "RFR.fit(X_train, y_train)\n",
        "pred = RFR.predict(X_test)\n",
        "rscore = r2_score(y_test, pred)\n",
        "rscore"
      ],
      "execution_count": 257,
      "outputs": [
        {
          "output_type": "execute_result",
          "data": {
            "text/plain": [
              "0.898696323772068"
            ]
          },
          "metadata": {},
          "execution_count": 257
        }
      ]
    },
    {
      "cell_type": "markdown",
      "metadata": {
        "id": "gIubztC5qTU1"
      },
      "source": [
        "The score is much higher with the default parameters. So, we are not using these parameters"
      ]
    },
    {
      "cell_type": "code",
      "metadata": {
        "colab": {
          "base_uri": "https://localhost:8080/"
        },
        "id": "6Ps3mCPOlfed",
        "outputId": "07ca98f3-0969-4766-dd8f-72e3462e4c9a"
      },
      "source": [
        "#FINAL MODEL\n",
        "#Substituting the default parameters in the RandomForestRegressor:\n",
        "\n",
        "RF =  RandomForestRegressor(max_features = 'auto', max_leaf_nodes = None, min_samples_split = 2, n_estimators = 100)\n",
        "\n",
        "RF.fit(X_train, y_train)\n",
        "pred = RF.predict(X_test)\n",
        "rscore = r2_score(y_test, pred)\n",
        "rscore"
      ],
      "execution_count": 258,
      "outputs": [
        {
          "output_type": "execute_result",
          "data": {
            "text/plain": [
              "0.9987056216612292"
            ]
          },
          "metadata": {},
          "execution_count": 258
        }
      ]
    },
    {
      "cell_type": "markdown",
      "metadata": {
        "id": "4TX8UW8zqb6R"
      },
      "source": [
        "We have achived 99.87% of r2 score with the help of default parameters."
      ]
    },
    {
      "cell_type": "code",
      "metadata": {
        "colab": {
          "base_uri": "https://localhost:8080/"
        },
        "id": "XwD2vXBtmasi",
        "outputId": "500fac07-0094-4b3d-e89f-8f8e779fbaf8"
      },
      "source": [
        "#SAVING THE MODEL:\n",
        "\n",
        "import joblib\n",
        "joblib.dump(RF, 'used_car_price_prediction_final_model.pkl')"
      ],
      "execution_count": 259,
      "outputs": [
        {
          "output_type": "execute_result",
          "data": {
            "text/plain": [
              "['used_car_price_prediction_final_model.pkl']"
            ]
          },
          "metadata": {},
          "execution_count": 259
        }
      ]
    },
    {
      "cell_type": "markdown",
      "metadata": {
        "id": "E3_R8q_CqlaV"
      },
      "source": [
        "Saved the model"
      ]
    },
    {
      "cell_type": "code",
      "metadata": {
        "id": "zjwoTR95mpwC"
      },
      "source": [
        ""
      ],
      "execution_count": null,
      "outputs": []
    }
  ]
}